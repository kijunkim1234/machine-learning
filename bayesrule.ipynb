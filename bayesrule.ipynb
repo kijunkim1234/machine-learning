{
  "nbformat": 4,
  "nbformat_minor": 0,
  "metadata": {
    "colab": {
      "name": "bayesrule.ipynb",
      "provenance": [],
      "collapsed_sections": [],
      "authorship_tag": "ABX9TyOysMPpxUlZb8lbnef3IOE4",
      "include_colab_link": true
    },
    "kernelspec": {
      "name": "python3",
      "display_name": "Python 3"
    }
  },
  "cells": [
    {
      "cell_type": "markdown",
      "metadata": {
        "id": "view-in-github",
        "colab_type": "text"
      },
      "source": [
        "<a href=\"https://colab.research.google.com/github/kijunkim9/machine-learning/blob/master/bayesrule.ipynb\" target=\"_parent\"><img src=\"https://colab.research.google.com/assets/colab-badge.svg\" alt=\"Open In Colab\"/></a>"
      ]
    },
    {
      "cell_type": "markdown",
      "metadata": {
        "id": "Xz42i_Mqid_0"
      },
      "source": [
        "# 출처: https://eunsukimme.github.io/ml/2019/12/03/Naive-Bayse/"
      ]
    },
    {
      "cell_type": "markdown",
      "metadata": {
        "id": "KmzHAdHeZQEM"
      },
      "source": [
        "# Naive Bayes Rule"
      ]
    },
    {
      "cell_type": "code",
      "metadata": {
        "colab": {
          "base_uri": "https://localhost:8080/",
          "height": 257
        },
        "id": "okuAjj_4ZFNL",
        "outputId": "a08d1ff3-e522-47b1-eb4c-6b2089f3c020"
      },
      "source": [
        "import pandas as pd\n",
        "import numpy as np\n",
        "\n",
        "\n",
        "\n",
        "# Amazone Bby Product Reviews 데이터 불러옴\n",
        "df = pd.read_json(\"/content/Baby_5.json\", lines=True, encoding=\"utf-8\")\n",
        "print(len(df))\n",
        "\n",
        "negative_reviews = df[ df['overall'] <4 ] # 긍정\n",
        "positive_reviews = df[ df['overall'] >=4 ] # 부정\n",
        "\n",
        "# 긍정/부정 데이터 1000개 추출\n",
        "neg_samples = negative_reviews.sample(n=1000, replace=False) \n",
        "pos_samples = positive_reviews.sample(n=1000, replace=False)\n",
        "\n",
        "# 실제 리뷰 리스트\n",
        "neg_list = neg_samples['reviewText'].values.tolist()\n",
        "pos_list = pos_samples['reviewText'].values.tolist()\n",
        "\n",
        "# 띄어쓰기 마다 split 하여 flatten하게 만듬\n",
        "temp = []\n",
        "temp.extend([sentence.split(' ') for sentence in pos_list])\n",
        "pos_words = []\n",
        "for sublist in temp:\n",
        "  for item in sublist:\n",
        "      pos_words.append(item)\n",
        "\n",
        "pos_counter = counter(pos_words)\n",
        "\n",
        "print(pos_counter['no'])\n",
        "print(neg_counter['no'])\n",
        "\n",
        "\n",
        "\n",
        "\n"
      ],
      "execution_count": null,
      "outputs": [
        {
          "output_type": "stream",
          "text": [
            "160792\n"
          ],
          "name": "stdout"
        },
        {
          "output_type": "error",
          "ename": "NameError",
          "evalue": "ignored",
          "traceback": [
            "\u001b[0;31m---------------------------------------------------------------------------\u001b[0m",
            "\u001b[0;31mNameError\u001b[0m                                 Traceback (most recent call last)",
            "\u001b[0;32m<ipython-input-19-8bcf52d4552f>\u001b[0m in \u001b[0;36m<module>\u001b[0;34m()\u001b[0m\n\u001b[1;32m     27\u001b[0m       \u001b[0mpos_words\u001b[0m\u001b[0;34m.\u001b[0m\u001b[0mappend\u001b[0m\u001b[0;34m(\u001b[0m\u001b[0mitem\u001b[0m\u001b[0;34m)\u001b[0m\u001b[0;34m\u001b[0m\u001b[0;34m\u001b[0m\u001b[0m\n\u001b[1;32m     28\u001b[0m \u001b[0;34m\u001b[0m\u001b[0m\n\u001b[0;32m---> 29\u001b[0;31m \u001b[0mpos_counter\u001b[0m \u001b[0;34m=\u001b[0m \u001b[0mcounter\u001b[0m\u001b[0;34m(\u001b[0m\u001b[0mpos_words\u001b[0m\u001b[0;34m)\u001b[0m\u001b[0;34m\u001b[0m\u001b[0;34m\u001b[0m\u001b[0m\n\u001b[0m\u001b[1;32m     30\u001b[0m \u001b[0;34m\u001b[0m\u001b[0m\n\u001b[1;32m     31\u001b[0m \u001b[0mprint\u001b[0m\u001b[0;34m(\u001b[0m\u001b[0mpos_counter\u001b[0m\u001b[0;34m[\u001b[0m\u001b[0;34m'no'\u001b[0m\u001b[0;34m]\u001b[0m\u001b[0;34m)\u001b[0m\u001b[0;34m\u001b[0m\u001b[0;34m\u001b[0m\u001b[0m\n",
            "\u001b[0;31mNameError\u001b[0m: name 'counter' is not defined"
          ]
        }
      ]
    },
    {
      "cell_type": "markdown",
      "metadata": {
        "id": "b1mstnrBf0xk"
      },
      "source": [
        "#P(A|B) = P(B|A) * P(A) / P(B) 계산하기\n"
      ]
    },
    {
      "cell_type": "code",
      "metadata": {
        "colab": {
          "base_uri": "https://localhost:8080/",
          "height": 239
        },
        "id": "cRQAoNnwcQr3",
        "outputId": "f51a829e-3f22-46ae-bcf9-d53a50636344"
      },
      "source": [
        "# 긍정, 부정 리뷰를 각 1000개씩 추출했으니 Proability of 0.5 = P(A)\n",
        "percent_pos, percent_neg = 0.5, 0.5\n",
        "\n",
        "# P(A|B)\n",
        "\n",
        "review = \"This crib was amazing\"\n",
        "total_pos = sum(pos_counter.values())\n",
        "total_neg = sum(pos_counter.values())\n",
        "review_appear_in_pos_prob = 1\n",
        "review_appear_in_neg_prob = 1\n",
        "\n",
        "for wrd in reveiw.split(' '):\n",
        "  review_appear_in_pos_prob *= (pos_cunter[word] + 1) / (total_pos + len(pos_counter))\n",
        "  review_appear_in_neg_prob *= (neg_counter[word] + 1) / (total_neg + len(neg_counter))\n",
        "\n",
        "print(review_appear_in_pos_prob)\n",
        "print(review_appear_in_neg_prob)"
      ],
      "execution_count": null,
      "outputs": [
        {
          "output_type": "error",
          "ename": "NameError",
          "evalue": "ignored",
          "traceback": [
            "\u001b[0;31m---------------------------------------------------------------------------\u001b[0m",
            "\u001b[0;31mNameError\u001b[0m                                 Traceback (most recent call last)",
            "\u001b[0;32m<ipython-input-18-756843eadeeb>\u001b[0m in \u001b[0;36m<module>\u001b[0;34m()\u001b[0m\n\u001b[1;32m      5\u001b[0m \u001b[0;34m\u001b[0m\u001b[0m\n\u001b[1;32m      6\u001b[0m \u001b[0mreview\u001b[0m \u001b[0;34m=\u001b[0m \u001b[0;34m\"This crib was amazing\"\u001b[0m\u001b[0;34m\u001b[0m\u001b[0;34m\u001b[0m\u001b[0m\n\u001b[0;32m----> 7\u001b[0;31m \u001b[0mtotal_pos\u001b[0m \u001b[0;34m=\u001b[0m \u001b[0msum\u001b[0m\u001b[0;34m(\u001b[0m\u001b[0mpos_counter\u001b[0m\u001b[0;34m.\u001b[0m\u001b[0mvalues\u001b[0m\u001b[0;34m(\u001b[0m\u001b[0;34m)\u001b[0m\u001b[0;34m)\u001b[0m\u001b[0;34m\u001b[0m\u001b[0;34m\u001b[0m\u001b[0m\n\u001b[0m\u001b[1;32m      8\u001b[0m \u001b[0mtotal_neg\u001b[0m \u001b[0;34m=\u001b[0m \u001b[0msum\u001b[0m\u001b[0;34m(\u001b[0m\u001b[0mpos_counter\u001b[0m\u001b[0;34m.\u001b[0m\u001b[0mvalues\u001b[0m\u001b[0;34m(\u001b[0m\u001b[0;34m)\u001b[0m\u001b[0;34m)\u001b[0m\u001b[0;34m\u001b[0m\u001b[0;34m\u001b[0m\u001b[0m\n\u001b[1;32m      9\u001b[0m \u001b[0mreview_appear_in_pos_prob\u001b[0m \u001b[0;34m=\u001b[0m \u001b[0;36m1\u001b[0m\u001b[0;34m\u001b[0m\u001b[0;34m\u001b[0m\u001b[0m\n",
            "\u001b[0;31mNameError\u001b[0m: name 'pos_counter' is not defined"
          ]
        }
      ]
    },
    {
      "cell_type": "code",
      "metadata": {
        "id": "Q7kYU45JgHxA"
      },
      "source": [
        "\n"
      ],
      "execution_count": null,
      "outputs": []
    }
  ]
}