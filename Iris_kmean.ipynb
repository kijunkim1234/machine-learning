{
  "nbformat": 4,
  "nbformat_minor": 0,
  "metadata": {
    "colab": {
      "name": "Iris-kmean.ipynb",
      "provenance": [],
      "collapsed_sections": [],
      "include_colab_link": true
    },
    "kernelspec": {
      "name": "python3",
      "display_name": "Python 3"
    },
    "accelerator": "GPU"
  },
  "cells": [
    {
      "cell_type": "markdown",
      "metadata": {
        "id": "view-in-github",
        "colab_type": "text"
      },
      "source": [
        "<a href=\"https://colab.research.google.com/github/kijunkim9/machine-learning/blob/master/Iris_kmean.ipynb\" target=\"_parent\"><img src=\"https://colab.research.google.com/assets/colab-badge.svg\" alt=\"Open In Colab\"/></a>"
      ]
    },
    {
      "cell_type": "markdown",
      "metadata": {
        "id": "-SOitJFtZYkN"
      },
      "source": [
        "# 출처 : https://eunsukimme.github.io/ml/2019/12/16/K-Means/"
      ]
    },
    {
      "cell_type": "code",
      "metadata": {
        "colab": {
          "base_uri": "https://localhost:8080/",
          "height": 70
        },
        "id": "1A58PbB4RF4Q",
        "outputId": "104c8f4a-7831-498f-e1b1-84f43c3d1ce7"
      },
      "source": [
        "from sklearn import datasets\n",
        "iris = datasets.load_iris()\n",
        "samples = iris.data\n",
        "#print(samples)\n",
        "\n",
        "\"\"\"\n",
        " row vector는 데이터의 sample\n",
        " column vector는 sepal length(꽃받침의 길이), sepal width(꽃받침의 넓이), petal length(꽃잎의 길이), petal width(꽃잎의 넓이) features를 나타낸다.\n",
        "\"\"\"  "
      ],
      "execution_count": 1,
      "outputs": [
        {
          "output_type": "execute_result",
          "data": {
            "application/vnd.google.colaboratory.intrinsic+json": {
              "type": "string"
            },
            "text/plain": [
              "'\\n row vector는 데이터의 sample\\n column vector는 sepal length(꽃받침의 길이), sepal width(꽃받침의 넓이), petal length(꽃잎의 길이), petal width(꽃잎의 넓이) features를 나타낸다.\\n'"
            ]
          },
          "metadata": {
            "tags": []
          },
          "execution_count": 1
        }
      ]
    },
    {
      "cell_type": "code",
      "metadata": {
        "colab": {
          "base_uri": "https://localhost:8080/",
          "height": 282
        },
        "id": "tVqPdsh5RRBt",
        "outputId": "e3651fca-2eea-4d95-a72a-13136c1c756e"
      },
      "source": [
        "from matplotlib import pyplot as plt\n",
        "x = samples[:,0]\n",
        "y = samples[:,1]\n",
        "plt.scatter(x,y, alpha=0.5)\n",
        "plt.xlabel('sepal length (cm)')\n",
        "plt.ylabel('sepal width (cm)')\n",
        "plt.show()"
      ],
      "execution_count": 2,
      "outputs": [
        {
          "output_type": "display_data",
          "data": {
            "image/png": "[encoded data removed]",
            "text/plain": [
              "<Figure size 432x288 with 1 Axes>"
            ]
          },
          "metadata": {
            "tags": [],
            "needs_background": "light"
          }
        }
      ]
    },
    {
      "cell_type": "markdown",
      "metadata": {
        "id": "VxUjKqoYSS5U"
      },
      "source": [
        "# Implementing K-Means"
      ]
    },
    {
      "cell_type": "code",
      "metadata": {
        "id": "n8i08IeJSP61"
      },
      "source": [
        "import numpy as np\n",
        "k = 3 # 우리가 정할 cluster의 개수\n",
        "centroids_x = np.random.uniform(min(x), max(x), k)\n",
        "centroids_y = np.random.uniform(min(y), max(y), k)\n",
        "centroids = list(zip(centroids_x, centroids_y))\n",
        "# 랜덤하게 x, y 좌표 3개를 생성하여 k개 만큼 실수 난수를 생성\n"
      ],
      "execution_count": 3,
      "outputs": []
    },
    {
      "cell_type": "code",
      "metadata": {
        "colab": {
          "base_uri": "https://localhost:8080/",
          "height": 268
        },
        "id": "-SnVLaxRS12u",
        "outputId": "dc52fb57-12ce-4479-a03b-adb18ec39d8a"
      },
      "source": [
        "plt.scatter(x,y,alpha=0.5)\n",
        "plt.scatter(centroids_x, centroids_y)\n",
        "plt.show()"
      ],
      "execution_count": 4,
      "outputs": [
        {
          "output_type": "display_data",
          "data": {
            "image/png": "[encoded data removed]",
            "text/plain": [
              "<Figure size 432x288 with 1 Axes>"
            ]
          },
          "metadata": {
            "tags": [],
            "needs_background": "light"
          }
        }
      ]
    },
    {
      "cell_type": "code",
      "metadata": {
        "id": "S3gMi6ZNS-FV"
      },
      "source": [
        "# Euclidean Distance을 이용하여 centroids에 가장 가까운 데이터들을 할당\n",
        "def distance(a, b):\n",
        "  return sum([(el_a - el_b)**2 for el_a, el_b in list(zip(a, b))]) ** 0.5"
      ],
      "execution_count": 5,
      "outputs": []
    },
    {
      "cell_type": "code",
      "metadata": {
        "id": "iHDgG_p9TJTc"
      },
      "source": [
        "# 각 데이터 포인트를 그룹화 할 labels을 생성합니다 (0, 1, 또는 2)\n",
        "labels = np.zeros(len(samples))\n",
        "sepal_length_width = np.array(list(zip(x, y)))\n",
        "# 각 데이터를 순회하면서 centroids와의 거리를 측정합니다\n",
        "for i in range(len(samples)):\n",
        "  distances = np.zeros(k)\t# 초기 거리는 모두 0으로 초기화 해줍니다\n",
        "  for j in range(k):\n",
        "    distances[j] = distance(sepal_length_width[i], centroids[j])\n",
        "  cluster = np.argmin(distances)\t# np.argmin은 가장 작은 값의 index를 반환합니다\n",
        "  labels[i] = cluster"
      ],
      "execution_count": 6,
      "outputs": []
    },
    {
      "cell_type": "code",
      "metadata": {
        "colab": {
          "base_uri": "https://localhost:8080/",
          "height": 268
        },
        "id": "LwvaN7SzUIN2",
        "outputId": "22e94214-9841-4fb5-f1a0-95c3f6134599"
      },
      "source": [
        "plt.scatter(x, y, c=labels, alpha=0.5)\n",
        "plt.scatter(centroids_x, centroids_y, c='red')\n",
        "plt.show()"
      ],
      "execution_count": 7,
      "outputs": [
        {
          "output_type": "display_data",
          "data": {
            "image/png": "[encoded data removed]",
            "text/plain": [
              "<Figure size 432x288 with 1 Axes>"
            ]
          },
          "metadata": {
            "tags": [],
            "needs_background": "light"
          }
        }
      ]
    },
    {
      "cell_type": "markdown",
      "metadata": {
        "id": "wzYt-dkjWVtN"
      },
      "source": [
        "# Update Centroids"
      ]
    },
    {
      "cell_type": "code",
      "metadata": {
        "id": "W5EecJNmUNus"
      },
      "source": [
        "from copy import deepcopy\n",
        "centroids_old = deepcopy(centroids)"
      ],
      "execution_count": 8,
      "outputs": []
    },
    {
      "cell_type": "code",
      "metadata": {
        "id": "euPJnzHeWc2S"
      },
      "source": [
        "# 각 클러스터에 속한 데이터들만 선택하여 points에 저장\n",
        "# points의 각 좌표의 평균 지점을 cenroids로 지정 (평균값이 곧 클러스터의 센터를 의미)\n",
        "for i in range(k):\n",
        "  points = [sepal_length_width[j] for j in range(len(sepal_length_width)) if labels[j] == i]\n",
        "  centroids[i] = np.mean(points, axis=0)"
      ],
      "execution_count": 9,
      "outputs": []
    },
    {
      "cell_type": "code",
      "metadata": {
        "colab": {
          "base_uri": "https://localhost:8080/",
          "height": 53
        },
        "id": "eY6XgL07XCSO",
        "outputId": "510e9066-f5c5-4e53-c065-e879c55bb0b2"
      },
      "source": [
        "\"\"\"\n",
        "plt.scatter(x,y,c=labels, alpha=0.5)\n",
        "plt.scatter(centroids_old[])\n",
        "plt.scatter(centroids[:,0], centroids[:,1], c='red')\n",
        "plt.show()\n",
        "\"\"\""
      ],
      "execution_count": 10,
      "outputs": [
        {
          "output_type": "execute_result",
          "data": {
            "application/vnd.google.colaboratory.intrinsic+json": {
              "type": "string"
            },
            "text/plain": [
              "\"\\nplt.scatter(x,y,c=labels, alpha=0.5)\\nplt.scatter(centroids_old[])\\nplt.scatter(centroids[:,0], centroids[:,1], c='red')\\nplt.show()\\n\""
            ]
          },
          "metadata": {
            "tags": []
          },
          "execution_count": 10
        }
      ]
    },
    {
      "cell_type": "markdown",
      "metadata": {
        "id": "GeRpE_QXPEcx"
      },
      "source": [
        "# Repeat Step 2 ~ 3 Until Convergence\n",
        "1. 2~3 단계를 반복하여 최적의 centroids 찾기\n"
      ]
    },
    {
      "cell_type": "code",
      "metadata": {
        "id": "Oorn4YYRPCmz",
        "outputId": "54b4d4ab-4c9d-49c7-8250-08dbb592f7d9",
        "colab": {
          "base_uri": "https://localhost:8080/",
          "height": 257
        }
      },
      "source": [
        "centroids_old = np.zeros(np.shape(centroids))\t# 제일 처음 centroids_old는 0으로 초기화 해줍니다\n",
        "labels = np.zeros(len(samples))\n",
        "error = np.zeros(k)\n",
        "# error 도 초기화 해줍니다\n",
        "for i in range(k):\n",
        "  error[i] = distance(centroids_old[i], centroids[i])\n",
        "# STEP 4: error가 0에 수렴할 때 까지 2 ~ 3 단계를 반복합니다\n",
        "while(error.all() != 0):\n",
        "  # STEP 2: 가까운 centroids에 데이터를 할당합니다\n",
        "  for i in range(len(samples)):\n",
        "    distances = np.zeros(k)\t# 초기 거리는 모두 0으로 초기화 해줍니다\n",
        "    for j in range(k):\n",
        "      distances[j] = distance(sepal_length_width[i], centroids[j])\n",
        "    cluster = np.argmin(distances)\t# np.argmin은 가장 작은 값의 index를 반환합니다\n",
        "    labels[i] = cluster\n",
        "  # Step 3: centroids를 업데이트 시켜줍니다\n",
        "  centroids_old = deepcopy(centroids)\n",
        "  for i in range(k):\n",
        "    # 각 그룹에 속한 데이터들만 골라 points에 저장합니다\n",
        "    points = [ sepal_length_width[j] for j in range(len(sepal_length_width)) if labels[j] == i ]\n",
        "    # points의 각 feature, 즉 각 좌표의 평균 지점을 centroid로 지정합니다\n",
        "    centroids[i] = np.mean(points, axis=0)\n",
        "  # 새롭게 centroids를 업데이트 했으니 error를 다시 계산합니다\n",
        "  for i in range(k):\n",
        "    error[i] = distance(centroids_old[i], centroids[i])"
      ],
      "execution_count": 1,
      "outputs": [
        {
          "output_type": "error",
          "ename": "NameError",
          "evalue": "ignored",
          "traceback": [
            "\u001b[0;31m---------------------------------------------------------------------------\u001b[0m",
            "\u001b[0;31mNameError\u001b[0m                                 Traceback (most recent call last)",
            "\u001b[0;32m<ipython-input-1-b6d5655085a9>\u001b[0m in \u001b[0;36m<module>\u001b[0;34m()\u001b[0m\n\u001b[0;32m----> 1\u001b[0;31m \u001b[0mcentroids_old\u001b[0m \u001b[0;34m=\u001b[0m \u001b[0mnp\u001b[0m\u001b[0;34m.\u001b[0m\u001b[0mzeros\u001b[0m\u001b[0;34m(\u001b[0m\u001b[0mnp\u001b[0m\u001b[0;34m.\u001b[0m\u001b[0mshape\u001b[0m\u001b[0;34m(\u001b[0m\u001b[0mcentroids\u001b[0m\u001b[0;34m)\u001b[0m\u001b[0;34m)\u001b[0m   \u001b[0;31m# 제일 처음 centroids_old는 0으로 초기화 해줍니다\u001b[0m\u001b[0;34m\u001b[0m\u001b[0;34m\u001b[0m\u001b[0m\n\u001b[0m\u001b[1;32m      2\u001b[0m \u001b[0mlabels\u001b[0m \u001b[0;34m=\u001b[0m \u001b[0mnp\u001b[0m\u001b[0;34m.\u001b[0m\u001b[0mzeros\u001b[0m\u001b[0;34m(\u001b[0m\u001b[0mlen\u001b[0m\u001b[0;34m(\u001b[0m\u001b[0msamples\u001b[0m\u001b[0;34m)\u001b[0m\u001b[0;34m)\u001b[0m\u001b[0;34m\u001b[0m\u001b[0;34m\u001b[0m\u001b[0m\n\u001b[1;32m      3\u001b[0m \u001b[0merror\u001b[0m \u001b[0;34m=\u001b[0m \u001b[0mnp\u001b[0m\u001b[0;34m.\u001b[0m\u001b[0mzeros\u001b[0m\u001b[0;34m(\u001b[0m\u001b[0mk\u001b[0m\u001b[0;34m)\u001b[0m\u001b[0;34m\u001b[0m\u001b[0;34m\u001b[0m\u001b[0m\n\u001b[1;32m      4\u001b[0m \u001b[0;31m# error 도 초기화 해줍니다\u001b[0m\u001b[0;34m\u001b[0m\u001b[0;34m\u001b[0m\u001b[0;34m\u001b[0m\u001b[0m\n\u001b[1;32m      5\u001b[0m \u001b[0;32mfor\u001b[0m \u001b[0mi\u001b[0m \u001b[0;32min\u001b[0m \u001b[0mrange\u001b[0m\u001b[0;34m(\u001b[0m\u001b[0mk\u001b[0m\u001b[0;34m)\u001b[0m\u001b[0;34m:\u001b[0m\u001b[0;34m\u001b[0m\u001b[0;34m\u001b[0m\u001b[0m\n",
            "\u001b[0;31mNameError\u001b[0m: name 'np' is not defined"
          ]
        }
      ]
    },
    {
      "cell_type": "code",
      "metadata": {
        "id": "rNsyy9a0Tyze",
        "outputId": "2135bca7-11bf-422c-e79f-115892a42771",
        "colab": {
          "base_uri": "https://localhost:8080/",
          "height": 169
        }
      },
      "source": [
        "type(centroids)"
      ],
      "execution_count": 2,
      "outputs": [
        {
          "output_type": "error",
          "ename": "NameError",
          "evalue": "ignored",
          "traceback": [
            "\u001b[0;31m---------------------------------------------------------------------------\u001b[0m",
            "\u001b[0;31mNameError\u001b[0m                                 Traceback (most recent call last)",
            "\u001b[0;32m<ipython-input-2-5ebfb6d8ed05>\u001b[0m in \u001b[0;36m<module>\u001b[0;34m()\u001b[0m\n\u001b[0;32m----> 1\u001b[0;31m \u001b[0mtype\u001b[0m\u001b[0;34m(\u001b[0m\u001b[0mcentroids\u001b[0m\u001b[0;34m)\u001b[0m\u001b[0;34m\u001b[0m\u001b[0;34m\u001b[0m\u001b[0m\n\u001b[0m",
            "\u001b[0;31mNameError\u001b[0m: name 'centroids' is not defined"
          ]
        }
      ]
    },
    {
      "cell_type": "code",
      "metadata": {
        "id": "Wx2x-l4uY1-M"
      },
      "source": [
        "colors=['r','g','b']\n",
        "for i in range(k):\n",
        "  points = np.array([sepal_length_width[j] for j in range(len(sepal_length_width)) if labels[j] == i])\n",
        "  plt.scatter(points[:,0], points[:,1], c=colors[i], alpha=0.5)\n",
        "  \n",
        "  #D = dimaond 형태로 마킹\n",
        "#plt.scatter(centroids[:,0], centroids[:, 1], marker='D', s=150)\n",
        "plt.xlabel('sepal length (cm)')\n",
        "plt.ylabel('sepal width (cm)')\n",
        "plt.show()"
      ],
      "execution_count": null,
      "outputs": []
    },
    {
      "cell_type": "markdown",
      "metadata": {
        "id": "O2PNUfO_TUn7"
      },
      "source": [
        "# Scikit-learn을 활용한 kmean 구현(매우 간단)"
      ]
    },
    {
      "cell_type": "code",
      "metadata": {
        "id": "Q0Oc4N3SSf5B",
        "outputId": "b20d1c75-62a1-4049-cc17-387f8d85351d",
        "colab": {
          "base_uri": "https://localhost:8080/",
          "height": 282
        }
      },
      "source": [
        "from sklearn.cluster import KMeans\n",
        "import matplotlib.pyplot as plt\n",
        "from sklearn import datasets\n",
        "\n",
        "\n",
        "iris = datasets.load_iris()\n",
        "samples = iris.data\n",
        "\n",
        "model = KMeans(n_clusters=3)\n",
        "model.fit(samples)\n",
        "labels = model.predict(samples)\n",
        "\n",
        "x= samples[:,0]\n",
        "y= samples[:,1]\n",
        "plt.scatter(x,y,c=labels, alpha=0.5)\n",
        "plt.xlabel('seplas length (cm)')\n",
        "plt.ylabel('seplas width (cm')\n",
        "plt.show()\n",
        "\n",
        "\n",
        "\n"
      ],
      "execution_count": 3,
      "outputs": [
        {
          "output_type": "display_data",
          "data": {
            "image/png": "[encoded data removed]",
            "text/plain": [
              "<Figure size 432x288 with 1 Axes>"
            ]
          },
          "metadata": {
            "tags": [],
            "needs_background": "light"
          }
        }
      ]
    },
    {
      "cell_type": "code",
      "metadata": {
        "id": "O9jHeByAUwoc",
        "outputId": "f808d382-b30c-4783-e243-2d3709be8c6d",
        "colab": {
          "base_uri": "https://localhost:8080/",
          "height": 239
        }
      },
      "source": [
        "target = iris.target\n",
        "species = np.chararray(target.shape, itemsize=150)\n",
        "for i in range(len(samples)):\n",
        "  if target[i] == 0:\n",
        "    species[i] = 'setosa'\n",
        "  elif target[i] ==1:\n",
        "      species[i] = 'versicolor'\n",
        "  elif target[i] ==2:\n",
        "      species[i] = 'virginica'\n"
      ],
      "execution_count": 4,
      "outputs": [
        {
          "output_type": "error",
          "ename": "NameError",
          "evalue": "ignored",
          "traceback": [
            "\u001b[0;31m---------------------------------------------------------------------------\u001b[0m",
            "\u001b[0;31mNameError\u001b[0m                                 Traceback (most recent call last)",
            "\u001b[0;32m<ipython-input-4-bccab92e820e>\u001b[0m in \u001b[0;36m<module>\u001b[0;34m()\u001b[0m\n\u001b[1;32m      1\u001b[0m \u001b[0mtarget\u001b[0m \u001b[0;34m=\u001b[0m \u001b[0miris\u001b[0m\u001b[0;34m.\u001b[0m\u001b[0mtarget\u001b[0m\u001b[0;34m\u001b[0m\u001b[0;34m\u001b[0m\u001b[0m\n\u001b[0;32m----> 2\u001b[0;31m \u001b[0mspecies\u001b[0m \u001b[0;34m=\u001b[0m \u001b[0mnp\u001b[0m\u001b[0;34m.\u001b[0m\u001b[0mchararray\u001b[0m\u001b[0;34m(\u001b[0m\u001b[0mtarget\u001b[0m\u001b[0;34m.\u001b[0m\u001b[0mshape\u001b[0m\u001b[0;34m,\u001b[0m \u001b[0mitemsize\u001b[0m\u001b[0;34m=\u001b[0m\u001b[0;36m150\u001b[0m\u001b[0;34m)\u001b[0m\u001b[0;34m\u001b[0m\u001b[0;34m\u001b[0m\u001b[0m\n\u001b[0m\u001b[1;32m      3\u001b[0m \u001b[0;32mfor\u001b[0m \u001b[0mi\u001b[0m \u001b[0;32min\u001b[0m \u001b[0mrange\u001b[0m\u001b[0;34m(\u001b[0m\u001b[0mlen\u001b[0m\u001b[0;34m(\u001b[0m\u001b[0msamples\u001b[0m\u001b[0;34m)\u001b[0m\u001b[0;34m)\u001b[0m\u001b[0;34m:\u001b[0m\u001b[0;34m\u001b[0m\u001b[0;34m\u001b[0m\u001b[0m\n\u001b[1;32m      4\u001b[0m   \u001b[0;32mif\u001b[0m \u001b[0mtarget\u001b[0m\u001b[0;34m[\u001b[0m\u001b[0mi\u001b[0m\u001b[0;34m]\u001b[0m \u001b[0;34m==\u001b[0m \u001b[0;36m0\u001b[0m\u001b[0;34m:\u001b[0m\u001b[0;34m\u001b[0m\u001b[0;34m\u001b[0m\u001b[0m\n\u001b[1;32m      5\u001b[0m     \u001b[0mspecies\u001b[0m\u001b[0;34m[\u001b[0m\u001b[0mi\u001b[0m\u001b[0;34m]\u001b[0m \u001b[0;34m=\u001b[0m \u001b[0;34m'setosa'\u001b[0m\u001b[0;34m\u001b[0m\u001b[0;34m\u001b[0m\u001b[0m\n",
            "\u001b[0;31mNameError\u001b[0m: name 'np' is not defined"
          ]
        }
      ]
    },
    {
      "cell_type": "code",
      "metadata": {
        "id": "Myx6geT0Vivu"
      },
      "source": [
        "import pandas as pd\n",
        "\n",
        "df = pd.DataFrame({'labels': labels, 'species': species})\n",
        "ct = pd.crosstab(df['labels'], df['species'])\n",
        "print(ct)"
      ],
      "execution_count": null,
      "outputs": []
    },
    {
      "cell_type": "code",
      "metadata": {
        "id": "bKV83tx0V3BA",
        "outputId": "9ee9cd22-ffd8-42e0-8e89-b339cb8ea63c",
        "colab": {
          "base_uri": "https://localhost:8080/",
          "height": 279
        }
      },
      "source": [
        "num_clusters = list(range(1, 9))\n",
        "inertias = []\n",
        "\n",
        "for i in num_clusters:\n",
        "  model = KMeans(n_clusters=i)\n",
        "  model.fit(samples)\n",
        "  inertias.append(model.inertia_)\n",
        "  \n",
        "plt.plot(num_clusters, inertias, '-o')\n",
        "plt.xlabel('Number of Clusters (k)')\n",
        "plt.ylabel('Inertia')\n",
        "plt.show()"
      ],
      "execution_count": 11,
      "outputs": [
        {
          "output_type": "display_data",
          "data": {
            "image/png": "[encoded data removed]",
            "text/plain": [
              "<Figure size 432x288 with 1 Axes>"
            ]
          },
          "metadata": {
            "tags": [],
            "needs_background": "light"
          }
        }
      ]
    },
    {
      "cell_type": "code",
      "metadata": {
        "id": "BeCrvtXyW0YL"
      },
      "source": [
        ""
      ],
      "execution_count": 6,
      "outputs": []
    }
  ]
}